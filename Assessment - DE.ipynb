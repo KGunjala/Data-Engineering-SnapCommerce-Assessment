{
 "cells": [
  {
   "cell_type": "code",
   "execution_count": 168,
   "metadata": {},
   "outputs": [],
   "source": [
    "import pandas as pd\n",
    "import os\n",
    "from io import StringIO\n",
    "import re\n",
    "import numpy as np\n",
    "import pandasql as ps"
   ]
  },
  {
   "cell_type": "code",
   "execution_count": 152,
   "metadata": {},
   "outputs": [],
   "source": [
    "data = 'Airline Code;DelayTimes;FlightCodes;To_From\\nAir Canada (!);[21, 40];20015.0;WAterLoo_NEWYork\\n<Air France> (12);[];;Montreal_TORONTO\\n(Porter Airways. );[60, 22, 87];20035.0;CALgary_Ottawa\\n12. Air France;[78, 66];;Ottawa_VANcouvER\\n\"\"\".\\\\.Lufthansa.\\\\.\"\"\";[12, 33];20055.0;london_MONTreal\\n'"
   ]
  },
  {
   "cell_type": "markdown",
   "metadata": {},
   "source": [
    "<B>Reading the given string into a dataframe using StringIO command</B>"
   ]
  },
  {
   "cell_type": "code",
   "execution_count": 153,
   "metadata": {},
   "outputs": [
    {
     "data": {
      "text/html": [
       "<div>\n",
       "<style scoped>\n",
       "    .dataframe tbody tr th:only-of-type {\n",
       "        vertical-align: middle;\n",
       "    }\n",
       "\n",
       "    .dataframe tbody tr th {\n",
       "        vertical-align: top;\n",
       "    }\n",
       "\n",
       "    .dataframe thead th {\n",
       "        text-align: right;\n",
       "    }\n",
       "</style>\n",
       "<table border=\"1\" class=\"dataframe\">\n",
       "  <thead>\n",
       "    <tr style=\"text-align: right;\">\n",
       "      <th></th>\n",
       "      <th>Airline Code</th>\n",
       "      <th>DelayTimes</th>\n",
       "      <th>FlightCodes</th>\n",
       "      <th>To_From</th>\n",
       "    </tr>\n",
       "  </thead>\n",
       "  <tbody>\n",
       "    <tr>\n",
       "      <th>0</th>\n",
       "      <td>Air Canada (!)</td>\n",
       "      <td>[21, 40]</td>\n",
       "      <td>20015.0</td>\n",
       "      <td>WAterLoo_NEWYork</td>\n",
       "    </tr>\n",
       "    <tr>\n",
       "      <th>1</th>\n",
       "      <td>&lt;Air France&gt; (12)</td>\n",
       "      <td>[]</td>\n",
       "      <td>NaN</td>\n",
       "      <td>Montreal_TORONTO</td>\n",
       "    </tr>\n",
       "    <tr>\n",
       "      <th>2</th>\n",
       "      <td>(Porter Airways. )</td>\n",
       "      <td>[60, 22, 87]</td>\n",
       "      <td>20035.0</td>\n",
       "      <td>CALgary_Ottawa</td>\n",
       "    </tr>\n",
       "    <tr>\n",
       "      <th>3</th>\n",
       "      <td>12. Air France</td>\n",
       "      <td>[78, 66]</td>\n",
       "      <td>NaN</td>\n",
       "      <td>Ottawa_VANcouvER</td>\n",
       "    </tr>\n",
       "    <tr>\n",
       "      <th>4</th>\n",
       "      <td>\".\\.Lufthansa.\\.\"</td>\n",
       "      <td>[12, 33]</td>\n",
       "      <td>20055.0</td>\n",
       "      <td>london_MONTreal</td>\n",
       "    </tr>\n",
       "  </tbody>\n",
       "</table>\n",
       "</div>"
      ],
      "text/plain": [
       "         Airline Code    DelayTimes  FlightCodes           To_From\n",
       "0      Air Canada (!)      [21, 40]      20015.0  WAterLoo_NEWYork\n",
       "1   <Air France> (12)            []          NaN  Montreal_TORONTO\n",
       "2  (Porter Airways. )  [60, 22, 87]      20035.0    CALgary_Ottawa\n",
       "3      12. Air France      [78, 66]          NaN  Ottawa_VANcouvER\n",
       "4   \".\\.Lufthansa.\\.\"      [12, 33]      20055.0   london_MONTreal"
      ]
     },
     "execution_count": 153,
     "metadata": {},
     "output_type": "execute_result"
    }
   ],
   "source": [
    "data1 = StringIO(data)\n",
    "\n",
    "df = pd.read_csv(data1, sep=\";\")\n",
    "\n",
    "df"
   ]
  },
  {
   "cell_type": "markdown",
   "metadata": {},
   "source": [
    "<B>Cleaning the Airline Code column</B>"
   ]
  },
  {
   "cell_type": "code",
   "execution_count": 154,
   "metadata": {},
   "outputs": [],
   "source": [
    "def Airline_code_cleaner(x):\n",
    "    return re.sub(r'[^a-zA-Z ]+', '', x).strip()"
   ]
  },
  {
   "cell_type": "code",
   "execution_count": 155,
   "metadata": {},
   "outputs": [],
   "source": [
    "df['Airline Code'] = list(map(Airline_code_cleaner, df['Airline Code']))"
   ]
  },
  {
   "cell_type": "code",
   "execution_count": 156,
   "metadata": {},
   "outputs": [
    {
     "data": {
      "text/html": [
       "<div>\n",
       "<style scoped>\n",
       "    .dataframe tbody tr th:only-of-type {\n",
       "        vertical-align: middle;\n",
       "    }\n",
       "\n",
       "    .dataframe tbody tr th {\n",
       "        vertical-align: top;\n",
       "    }\n",
       "\n",
       "    .dataframe thead th {\n",
       "        text-align: right;\n",
       "    }\n",
       "</style>\n",
       "<table border=\"1\" class=\"dataframe\">\n",
       "  <thead>\n",
       "    <tr style=\"text-align: right;\">\n",
       "      <th></th>\n",
       "      <th>Airline Code</th>\n",
       "      <th>DelayTimes</th>\n",
       "      <th>FlightCodes</th>\n",
       "      <th>To_From</th>\n",
       "    </tr>\n",
       "  </thead>\n",
       "  <tbody>\n",
       "    <tr>\n",
       "      <th>0</th>\n",
       "      <td>Air Canada</td>\n",
       "      <td>[21, 40]</td>\n",
       "      <td>20015.0</td>\n",
       "      <td>WAterLoo_NEWYork</td>\n",
       "    </tr>\n",
       "    <tr>\n",
       "      <th>1</th>\n",
       "      <td>Air France</td>\n",
       "      <td>[]</td>\n",
       "      <td>NaN</td>\n",
       "      <td>Montreal_TORONTO</td>\n",
       "    </tr>\n",
       "    <tr>\n",
       "      <th>2</th>\n",
       "      <td>Porter Airways</td>\n",
       "      <td>[60, 22, 87]</td>\n",
       "      <td>20035.0</td>\n",
       "      <td>CALgary_Ottawa</td>\n",
       "    </tr>\n",
       "    <tr>\n",
       "      <th>3</th>\n",
       "      <td>Air France</td>\n",
       "      <td>[78, 66]</td>\n",
       "      <td>NaN</td>\n",
       "      <td>Ottawa_VANcouvER</td>\n",
       "    </tr>\n",
       "    <tr>\n",
       "      <th>4</th>\n",
       "      <td>Lufthansa</td>\n",
       "      <td>[12, 33]</td>\n",
       "      <td>20055.0</td>\n",
       "      <td>london_MONTreal</td>\n",
       "    </tr>\n",
       "  </tbody>\n",
       "</table>\n",
       "</div>"
      ],
      "text/plain": [
       "     Airline Code    DelayTimes  FlightCodes           To_From\n",
       "0      Air Canada      [21, 40]      20015.0  WAterLoo_NEWYork\n",
       "1      Air France            []          NaN  Montreal_TORONTO\n",
       "2  Porter Airways  [60, 22, 87]      20035.0    CALgary_Ottawa\n",
       "3      Air France      [78, 66]          NaN  Ottawa_VANcouvER\n",
       "4       Lufthansa      [12, 33]      20055.0   london_MONTreal"
      ]
     },
     "execution_count": 156,
     "metadata": {},
     "output_type": "execute_result"
    }
   ],
   "source": [
    "df"
   ]
  },
  {
   "cell_type": "code",
   "execution_count": null,
   "metadata": {},
   "outputs": [],
   "source": []
  },
  {
   "cell_type": "markdown",
   "metadata": {},
   "source": [
    "<B>Cleaning the 'To_From' column and splitting it into 2 separate columns titled 'To' and 'From'</B>"
   ]
  },
  {
   "cell_type": "code",
   "execution_count": 157,
   "metadata": {},
   "outputs": [],
   "source": [
    "def case_cleaner(x):\n",
    "    return x.upper().strip()"
   ]
  },
  {
   "cell_type": "code",
   "execution_count": 158,
   "metadata": {},
   "outputs": [],
   "source": [
    "df['To_From'] = list(map(lambda x : x.split('_'), df['To_From']))"
   ]
  },
  {
   "cell_type": "code",
   "execution_count": 159,
   "metadata": {},
   "outputs": [],
   "source": [
    "df[['To','From']] = pd.DataFrame(df.To_From.tolist(), index= df.index)"
   ]
  },
  {
   "cell_type": "code",
   "execution_count": 160,
   "metadata": {},
   "outputs": [],
   "source": [
    "df.drop('To_From', axis = 1, inplace = True)"
   ]
  },
  {
   "cell_type": "code",
   "execution_count": 161,
   "metadata": {},
   "outputs": [],
   "source": [
    "df['To'] = list(map(case_cleaner, df['To']))\n",
    "df['From'] = list(map(case_cleaner, df['From']))"
   ]
  },
  {
   "cell_type": "code",
   "execution_count": 163,
   "metadata": {},
   "outputs": [
    {
     "data": {
      "text/html": [
       "<div>\n",
       "<style scoped>\n",
       "    .dataframe tbody tr th:only-of-type {\n",
       "        vertical-align: middle;\n",
       "    }\n",
       "\n",
       "    .dataframe tbody tr th {\n",
       "        vertical-align: top;\n",
       "    }\n",
       "\n",
       "    .dataframe thead th {\n",
       "        text-align: right;\n",
       "    }\n",
       "</style>\n",
       "<table border=\"1\" class=\"dataframe\">\n",
       "  <thead>\n",
       "    <tr style=\"text-align: right;\">\n",
       "      <th></th>\n",
       "      <th>Airline Code</th>\n",
       "      <th>DelayTimes</th>\n",
       "      <th>FlightCodes</th>\n",
       "      <th>To</th>\n",
       "      <th>From</th>\n",
       "    </tr>\n",
       "  </thead>\n",
       "  <tbody>\n",
       "    <tr>\n",
       "      <th>0</th>\n",
       "      <td>Air Canada</td>\n",
       "      <td>[21, 40]</td>\n",
       "      <td>20015.0</td>\n",
       "      <td>WATERLOO</td>\n",
       "      <td>NEWYORK</td>\n",
       "    </tr>\n",
       "    <tr>\n",
       "      <th>1</th>\n",
       "      <td>Air France</td>\n",
       "      <td>[]</td>\n",
       "      <td>NaN</td>\n",
       "      <td>MONTREAL</td>\n",
       "      <td>TORONTO</td>\n",
       "    </tr>\n",
       "    <tr>\n",
       "      <th>2</th>\n",
       "      <td>Porter Airways</td>\n",
       "      <td>[60, 22, 87]</td>\n",
       "      <td>20035.0</td>\n",
       "      <td>CALGARY</td>\n",
       "      <td>OTTAWA</td>\n",
       "    </tr>\n",
       "    <tr>\n",
       "      <th>3</th>\n",
       "      <td>Air France</td>\n",
       "      <td>[78, 66]</td>\n",
       "      <td>NaN</td>\n",
       "      <td>OTTAWA</td>\n",
       "      <td>VANCOUVER</td>\n",
       "    </tr>\n",
       "    <tr>\n",
       "      <th>4</th>\n",
       "      <td>Lufthansa</td>\n",
       "      <td>[12, 33]</td>\n",
       "      <td>20055.0</td>\n",
       "      <td>LONDON</td>\n",
       "      <td>MONTREAL</td>\n",
       "    </tr>\n",
       "  </tbody>\n",
       "</table>\n",
       "</div>"
      ],
      "text/plain": [
       "     Airline Code    DelayTimes  FlightCodes        To       From\n",
       "0      Air Canada      [21, 40]      20015.0  WATERLOO    NEWYORK\n",
       "1      Air France            []          NaN  MONTREAL    TORONTO\n",
       "2  Porter Airways  [60, 22, 87]      20035.0   CALGARY     OTTAWA\n",
       "3      Air France      [78, 66]          NaN    OTTAWA  VANCOUVER\n",
       "4       Lufthansa      [12, 33]      20055.0    LONDON   MONTREAL"
      ]
     },
     "execution_count": 163,
     "metadata": {},
     "output_type": "execute_result"
    }
   ],
   "source": [
    "df"
   ]
  },
  {
   "cell_type": "code",
   "execution_count": null,
   "metadata": {},
   "outputs": [],
   "source": []
  },
  {
   "cell_type": "markdown",
   "metadata": {},
   "source": [
    "<B>Cleaning the FlightCodes column, and recasting it as int type</B>"
   ]
  },
  {
   "cell_type": "code",
   "execution_count": 165,
   "metadata": {},
   "outputs": [],
   "source": [
    "df['FlightCodes'] = df['FlightCodes'].interpolate().astype(int)"
   ]
  },
  {
   "cell_type": "code",
   "execution_count": 175,
   "metadata": {},
   "outputs": [
    {
     "data": {
      "text/html": [
       "<div>\n",
       "<style scoped>\n",
       "    .dataframe tbody tr th:only-of-type {\n",
       "        vertical-align: middle;\n",
       "    }\n",
       "\n",
       "    .dataframe tbody tr th {\n",
       "        vertical-align: top;\n",
       "    }\n",
       "\n",
       "    .dataframe thead th {\n",
       "        text-align: right;\n",
       "    }\n",
       "</style>\n",
       "<table border=\"1\" class=\"dataframe\">\n",
       "  <thead>\n",
       "    <tr style=\"text-align: right;\">\n",
       "      <th></th>\n",
       "      <th>Airline Code</th>\n",
       "      <th>DelayTimes</th>\n",
       "      <th>FlightCodes</th>\n",
       "      <th>To</th>\n",
       "      <th>From</th>\n",
       "    </tr>\n",
       "  </thead>\n",
       "  <tbody>\n",
       "    <tr>\n",
       "      <th>0</th>\n",
       "      <td>Air Canada</td>\n",
       "      <td>[21, 40]</td>\n",
       "      <td>20015</td>\n",
       "      <td>WATERLOO</td>\n",
       "      <td>NEWYORK</td>\n",
       "    </tr>\n",
       "    <tr>\n",
       "      <th>1</th>\n",
       "      <td>Air France</td>\n",
       "      <td>[]</td>\n",
       "      <td>20025</td>\n",
       "      <td>MONTREAL</td>\n",
       "      <td>TORONTO</td>\n",
       "    </tr>\n",
       "    <tr>\n",
       "      <th>2</th>\n",
       "      <td>Porter Airways</td>\n",
       "      <td>[60, 22, 87]</td>\n",
       "      <td>20035</td>\n",
       "      <td>CALGARY</td>\n",
       "      <td>OTTAWA</td>\n",
       "    </tr>\n",
       "    <tr>\n",
       "      <th>3</th>\n",
       "      <td>Air France</td>\n",
       "      <td>[78, 66]</td>\n",
       "      <td>20045</td>\n",
       "      <td>OTTAWA</td>\n",
       "      <td>VANCOUVER</td>\n",
       "    </tr>\n",
       "    <tr>\n",
       "      <th>4</th>\n",
       "      <td>Lufthansa</td>\n",
       "      <td>[12, 33]</td>\n",
       "      <td>20055</td>\n",
       "      <td>LONDON</td>\n",
       "      <td>MONTREAL</td>\n",
       "    </tr>\n",
       "  </tbody>\n",
       "</table>\n",
       "</div>"
      ],
      "text/plain": [
       "     Airline Code    DelayTimes  FlightCodes        To       From\n",
       "0      Air Canada      [21, 40]        20015  WATERLOO    NEWYORK\n",
       "1      Air France            []        20025  MONTREAL    TORONTO\n",
       "2  Porter Airways  [60, 22, 87]        20035   CALGARY     OTTAWA\n",
       "3      Air France      [78, 66]        20045    OTTAWA  VANCOUVER\n",
       "4       Lufthansa      [12, 33]        20055    LONDON   MONTREAL"
      ]
     },
     "execution_count": 175,
     "metadata": {},
     "output_type": "execute_result"
    }
   ],
   "source": [
    "df"
   ]
  },
  {
   "cell_type": "code",
   "execution_count": null,
   "metadata": {},
   "outputs": [],
   "source": []
  },
  {
   "cell_type": "markdown",
   "metadata": {},
   "source": [
    "### SQL QUERY FOR ALL FLIGHTS LEAVING FROM WATERLOO"
   ]
  },
  {
   "cell_type": "code",
   "execution_count": 186,
   "metadata": {},
   "outputs": [],
   "source": [
    "query = \"SELECT * FROM df WHERE [From] = 'WATERLOO'\""
   ]
  },
  {
   "cell_type": "code",
   "execution_count": 187,
   "metadata": {},
   "outputs": [],
   "source": [
    "query = ps.sqldf(query)"
   ]
  }
 ],
 "metadata": {
  "kernelspec": {
   "display_name": "Python 3",
   "language": "python",
   "name": "python3"
  },
  "language_info": {
   "codemirror_mode": {
    "name": "ipython",
    "version": 3
   },
   "file_extension": ".py",
   "mimetype": "text/x-python",
   "name": "python",
   "nbconvert_exporter": "python",
   "pygments_lexer": "ipython3",
   "version": "3.8.3"
  }
 },
 "nbformat": 4,
 "nbformat_minor": 4
}
